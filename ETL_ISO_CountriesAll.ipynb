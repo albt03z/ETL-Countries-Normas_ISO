{
  "nbformat": 4,
  "nbformat_minor": 0,
  "metadata": {
    "colab": {
      "provenance": []
    },
    "kernelspec": {
      "name": "python3",
      "display_name": "Python 3"
    },
    "language_info": {
      "name": "python"
    }
  },
  "cells": [
    {
      "cell_type": "code",
      "source": [
        "# Instalación de dependencias\n",
        "!pip install requests beautifulsoup4 pandas pycountry deep-translator"
      ],
      "metadata": {
        "colab": {
          "base_uri": "https://localhost:8080/"
        },
        "id": "eTVptc4Rw9hL",
        "outputId": "1e0d9db3-9e02-4654-8232-0f84c8cfa710"
      },
      "execution_count": 3,
      "outputs": [
        {
          "output_type": "stream",
          "name": "stdout",
          "text": [
            "Requirement already satisfied: requests in /usr/local/lib/python3.11/dist-packages (2.32.3)\n",
            "Requirement already satisfied: beautifulsoup4 in /usr/local/lib/python3.11/dist-packages (4.13.3)\n",
            "Requirement already satisfied: pandas in /usr/local/lib/python3.11/dist-packages (2.2.2)\n",
            "Collecting pycountry\n",
            "  Downloading pycountry-24.6.1-py3-none-any.whl.metadata (12 kB)\n",
            "Collecting deep-translator\n",
            "  Downloading deep_translator-1.11.4-py3-none-any.whl.metadata (30 kB)\n",
            "Requirement already satisfied: charset-normalizer<4,>=2 in /usr/local/lib/python3.11/dist-packages (from requests) (3.4.1)\n",
            "Requirement already satisfied: idna<4,>=2.5 in /usr/local/lib/python3.11/dist-packages (from requests) (3.10)\n",
            "Requirement already satisfied: urllib3<3,>=1.21.1 in /usr/local/lib/python3.11/dist-packages (from requests) (2.3.0)\n",
            "Requirement already satisfied: certifi>=2017.4.17 in /usr/local/lib/python3.11/dist-packages (from requests) (2025.1.31)\n",
            "Requirement already satisfied: soupsieve>1.2 in /usr/local/lib/python3.11/dist-packages (from beautifulsoup4) (2.6)\n",
            "Requirement already satisfied: typing-extensions>=4.0.0 in /usr/local/lib/python3.11/dist-packages (from beautifulsoup4) (4.12.2)\n",
            "Requirement already satisfied: numpy>=1.23.2 in /usr/local/lib/python3.11/dist-packages (from pandas) (2.0.2)\n",
            "Requirement already satisfied: python-dateutil>=2.8.2 in /usr/local/lib/python3.11/dist-packages (from pandas) (2.8.2)\n",
            "Requirement already satisfied: pytz>=2020.1 in /usr/local/lib/python3.11/dist-packages (from pandas) (2025.1)\n",
            "Requirement already satisfied: tzdata>=2022.7 in /usr/local/lib/python3.11/dist-packages (from pandas) (2025.1)\n",
            "Requirement already satisfied: six>=1.5 in /usr/local/lib/python3.11/dist-packages (from python-dateutil>=2.8.2->pandas) (1.17.0)\n",
            "Downloading pycountry-24.6.1-py3-none-any.whl (6.3 MB)\n",
            "\u001b[2K   \u001b[90m━━━━━━━━━━━━━━━━━━━━━━━━━━━━━━━━━━━━━━━━\u001b[0m \u001b[32m6.3/6.3 MB\u001b[0m \u001b[31m92.5 MB/s\u001b[0m eta \u001b[36m0:00:00\u001b[0m\n",
            "\u001b[?25hDownloading deep_translator-1.11.4-py3-none-any.whl (42 kB)\n",
            "\u001b[2K   \u001b[90m━━━━━━━━━━━━━━━━━━━━━━━━━━━━━━━━━━━━━━━━\u001b[0m \u001b[32m42.3/42.3 kB\u001b[0m \u001b[31m3.6 MB/s\u001b[0m eta \u001b[36m0:00:00\u001b[0m\n",
            "\u001b[?25hInstalling collected packages: pycountry, deep-translator\n",
            "Successfully installed deep-translator-1.11.4 pycountry-24.6.1\n"
          ]
        }
      ]
    },
    {
      "cell_type": "code",
      "source": [
        "# Importaciones\n",
        "import pandas as pd\n",
        "import requests\n",
        "from deep_translator import GoogleTranslator"
      ],
      "metadata": {
        "id": "EDctk1XUw-Hr"
      },
      "execution_count": 4,
      "outputs": []
    },
    {
      "cell_type": "code",
      "source": [
        "# Descargar los archivos necesarios\n",
        "!wget -N https://download.geonames.org/export/dump/countryInfo.txt\n",
        "!wget -N https://download.geonames.org/export/dump/admin1CodesASCII.txt\n",
        "!wget -N https://download.geonames.org/export/dump/allCountries.zip\n",
        "!unzip -o allCountries.zip"
      ],
      "metadata": {
        "colab": {
          "base_uri": "https://localhost:8080/"
        },
        "id": "7wrIIkUhxDJ0",
        "outputId": "01e497be-1f9f-41a8-c56e-a6e16c891b30"
      },
      "execution_count": 5,
      "outputs": [
        {
          "output_type": "stream",
          "name": "stdout",
          "text": [
            "--2025-03-24 15:34:12--  https://download.geonames.org/export/dump/countryInfo.txt\n",
            "Resolving download.geonames.org (download.geonames.org)... 5.9.152.54\n",
            "Connecting to download.geonames.org (download.geonames.org)|5.9.152.54|:443... connected.\n",
            "HTTP request sent, awaiting response... 200 OK\n",
            "Length: 31667 (31K) [text/plain]\n",
            "Saving to: ‘countryInfo.txt’\n",
            "\n",
            "countryInfo.txt     100%[===================>]  30.92K  --.-KB/s    in 0.09s   \n",
            "\n",
            "2025-03-24 15:34:13 (336 KB/s) - ‘countryInfo.txt’ saved [31667/31667]\n",
            "\n",
            "--2025-03-24 15:34:13--  https://download.geonames.org/export/dump/admin1CodesASCII.txt\n",
            "Resolving download.geonames.org (download.geonames.org)... 5.9.152.54\n",
            "Connecting to download.geonames.org (download.geonames.org)|5.9.152.54|:443... connected.\n",
            "HTTP request sent, awaiting response... 200 OK\n",
            "Length: 147658 (144K) [text/plain]\n",
            "Saving to: ‘admin1CodesASCII.txt’\n",
            "\n",
            "admin1CodesASCII.tx 100%[===================>] 144.20K   391KB/s    in 0.4s    \n",
            "\n",
            "2025-03-24 15:34:13 (391 KB/s) - ‘admin1CodesASCII.txt’ saved [147658/147658]\n",
            "\n",
            "--2025-03-24 15:34:13--  https://download.geonames.org/export/dump/allCountries.zip\n",
            "Resolving download.geonames.org (download.geonames.org)... 5.9.152.54\n",
            "Connecting to download.geonames.org (download.geonames.org)|5.9.152.54|:443... connected.\n",
            "HTTP request sent, awaiting response... 200 OK\n",
            "Length: 407047605 (388M) [application/zip]\n",
            "Saving to: ‘allCountries.zip’\n",
            "\n",
            "allCountries.zip    100%[===================>] 388.19M  30.3MB/s    in 13s     \n",
            "\n",
            "2025-03-24 15:34:27 (28.8 MB/s) - ‘allCountries.zip’ saved [407047605/407047605]\n",
            "\n",
            "Archive:  allCountries.zip\n",
            "  inflating: allCountries.txt        \n"
          ]
        }
      ]
    },
    {
      "cell_type": "code",
      "source": [
        "# Funciones Auxiliares\n",
        "def translate_name(name):\n",
        "    \"\"\"Traduce el nombre de un país de inglés a español.\"\"\"\n",
        "    try:\n",
        "        return GoogleTranslator(source='en', target='es').translate(name)\n",
        "    except Exception as e:\n",
        "        print(f\"Error al traducir {name}: {e}\")\n",
        "        return name"
      ],
      "metadata": {
        "id": "q42KgxMMxD9S"
      },
      "execution_count": 6,
      "outputs": []
    },
    {
      "cell_type": "code",
      "source": [
        "# Funciones Auxiliares\n",
        "def get_country_extra_data():\n",
        "    \"\"\"\n",
        "    Obtiene desde la API de restcountries.com los datos adicionales:\n",
        "      - calling_code\n",
        "      - currency_code, currency_name, currency_symbol\n",
        "      - languages\n",
        "    Retorna 5 diccionarios indexados por el código ISO2 (cca2).\n",
        "    \"\"\"\n",
        "    url = \"https://restcountries.com/v3.1/all\"\n",
        "\n",
        "    try:\n",
        "        response = requests.get(url)\n",
        "        response.raise_for_status()\n",
        "\n",
        "    except Exception as e:\n",
        "        print(\"Error al obtener datos de restcountries.com:\", e)\n",
        "        return {}, {}, {}, {}, {}\n",
        "\n",
        "    data = response.json()\n",
        "    calling_dict = {}\n",
        "    currency_dict = {}\n",
        "    currency_name_dict = {}\n",
        "    currency_symbol_dict = {}\n",
        "    language_dict = {}\n",
        "\n",
        "    for country in data:\n",
        "        cca2 = country.get(\"cca2\", \"\").upper()\n",
        "        idd = country.get(\"idd\", {})\n",
        "        root = idd.get(\"root\", \"\")\n",
        "        suffixes = idd.get(\"suffixes\", [])\n",
        "        calling_dict[cca2] = root + suffixes[0] if root and suffixes else \"\"\n",
        "        currencies = country.get(\"currencies\", {})\n",
        "\n",
        "        if currencies:\n",
        "            currency_code = list(currencies.keys())[0]\n",
        "            currency_data = currencies[currency_code]\n",
        "            currency_dict[cca2] = currency_code\n",
        "            currency_name_dict[cca2] = currency_data.get(\"name\", \"\")\n",
        "            currency_symbol_dict[cca2] = currency_data.get(\"symbol\", \"\")\n",
        "\n",
        "        languages = country.get(\"languages\", {})\n",
        "        language_dict[cca2] = \", \".join(languages.values())\n",
        "\n",
        "    return calling_dict, currency_dict, currency_name_dict, currency_symbol_dict, language_dict"
      ],
      "metadata": {
        "id": "DpA6oUwMxHla"
      },
      "execution_count": 7,
      "outputs": []
    },
    {
      "cell_type": "code",
      "source": [
        "# Procesamiento de Datos\n",
        "def process_countries():\n",
        "    \"\"\"Procesa el archivo countryInfo.txt para extraer la información básica de los países.\"\"\"\n",
        "    countries_data = []\n",
        "\n",
        "    with open('countryInfo.txt', 'r', encoding='utf-8') as f:\n",
        "        for line in f:\n",
        "            if line.startswith('#'):\n",
        "                continue\n",
        "            fields = line.split('\\t')\n",
        "\n",
        "            if len(fields) < 12:\n",
        "                continue\n",
        "            iso_code = fields[0].strip()\n",
        "            iso_code3 = fields[1].strip()\n",
        "            numeric_code = fields[2].strip()\n",
        "            name_en = fields[4].strip()\n",
        "            capital = fields[5].strip()\n",
        "            countries_data.append({\n",
        "                'iso_code': iso_code,\n",
        "                'iso_code3': iso_code3,\n",
        "                'numeric_code': numeric_code,\n",
        "                'name_en': name_en,\n",
        "                'capital': capital\n",
        "            })\n",
        "\n",
        "    df = pd.DataFrame(countries_data)\n",
        "    df['name'] = df['name_en'].apply(translate_name)\n",
        "    df['flag_png'] = df['iso_code'].str.lower().apply(lambda code: f\"https://flagcdn.com/w320/{code}.png\")\n",
        "    df['flag_svg'] = df['iso_code'].str.lower().apply(lambda code: f\"https://flagcdn.com/{code}.svg\")\n",
        "\n",
        "    return df.drop_duplicates('iso_code').copy()"
      ],
      "metadata": {
        "id": "I8APrbkexqyz"
      },
      "execution_count": 8,
      "outputs": []
    },
    {
      "cell_type": "code",
      "source": [
        "# Procesamiento de Datos\n",
        "def process_regions():\n",
        "    \"\"\"Procesa el archivo admin1CodesASCII.txt para extraer regiones.\"\"\"\n",
        "    regions = []\n",
        "    with open('admin1CodesASCII.txt', 'r', encoding='utf-8') as f:\n",
        "        for line in f:\n",
        "            parts = line.split('\\t')\n",
        "            if len(parts) < 4:\n",
        "                continue\n",
        "            code, name, _, _ = parts\n",
        "            country_code, region_code = code.split('.')\n",
        "            regions.append({\n",
        "                'country_iso': country_code.strip(),\n",
        "                'iso_code': f\"{country_code.strip()}-{region_code.strip().zfill(2)}\",\n",
        "                'name': name.strip()\n",
        "            })\n",
        "    return pd.DataFrame(regions).drop_duplicates(['country_iso', 'iso_code']).copy()"
      ],
      "metadata": {
        "id": "HjYUfOI4xxYa"
      },
      "execution_count": 9,
      "outputs": []
    },
    {
      "cell_type": "code",
      "source": [
        "# Procesamiento de Datos\n",
        "def process_cities(regions):\n",
        "    \"\"\"Procesa el archivo allCountries.txt para extraer ciudades.\"\"\"\n",
        "    cities = []\n",
        "    with open('allCountries.txt', 'r', encoding='utf-8') as f:\n",
        "        for line in f:\n",
        "            fields = line.split('\\t')\n",
        "            if len(fields) < 15:\n",
        "                continue\n",
        "            cities.append({\n",
        "                'name': fields[1].strip(),\n",
        "                'country_iso': fields[8].strip(),\n",
        "                'region_code': fields[10].strip().zfill(2),\n",
        "                'latitude': float(fields[4].strip()),\n",
        "                'longitude': float(fields[5].strip()),\n",
        "                'population': int(fields[14].strip()) if fields[14].strip() else None,\n",
        "                'is_capital': (fields[7].strip() == 'PPLC')\n",
        "            })\n",
        "    df = pd.DataFrame(cities).drop_duplicates(['country_iso', 'name']).copy()\n",
        "    valid_regions = regions['iso_code'].unique()\n",
        "    df['region_iso'] = df['country_iso'] + '-' + df['region_code']\n",
        "    df['region_iso'] = df['region_iso'].where(df['region_iso'].isin(valid_regions), None)\n",
        "    return df"
      ],
      "metadata": {
        "id": "GYT2hjTuyJ_a"
      },
      "execution_count": 10,
      "outputs": []
    },
    {
      "cell_type": "code",
      "source": [
        "def main():\n",
        "    # Obtener datos adicionales desde RestCountries\n",
        "    calling_dict, currency_dict, currency_name_dict, currency_symbol_dict, language_dict = get_country_extra_data()\n",
        "\n",
        "    # Procesar archivos de Geonames\n",
        "    df_countries = process_countries()\n",
        "    df_regions = process_regions()\n",
        "    df_cities = process_cities(df_regions)\n",
        "\n",
        "    # Agregar datos extra a df_countries\n",
        "    df_countries['calling_code'] = df_countries['iso_code'].apply(lambda code: calling_dict.get(code, \"\"))\n",
        "    df_countries['currency_code'] = df_countries['iso_code'].apply(lambda code: currency_dict.get(code, \"\"))\n",
        "    df_countries['currency_name'] = df_countries['iso_code'].apply(lambda code: currency_name_dict.get(code, \"\"))\n",
        "    df_countries['currency_symbol'] = df_countries['iso_code'].apply(lambda code: currency_symbol_dict.get(code, \"\"))\n",
        "    df_countries['languages'] = df_countries['iso_code'].apply(lambda code: language_dict.get(code, \"\"))\n",
        "\n",
        "    # Crear DataFrames para Country (modelo principal) y CountryInfo (datos extra)\n",
        "    df_country_main = df_countries[['iso_code', 'iso_code3', 'numeric_code', 'name', 'name_en']]\n",
        "    df_country_info = df_countries[['iso_code', 'capital', 'flag_png', 'flag_svg', 'calling_code',\n",
        "                                    'currency_code', 'currency_name', 'currency_symbol', 'languages']].rename(columns={'iso_code': 'country_iso'})\n",
        "\n",
        "    # Exportar datos a CSV con codificación UTF-8\n",
        "    df_country_main.to_csv('countries.csv', index=False, encoding=\"utf-8-sig\")\n",
        "    df_country_info.to_csv('country_info.csv', index=False, encoding=\"utf-8-sig\")\n",
        "    df_regions.to_csv('regions.csv', index=False, encoding=\"utf-8-sig\")\n",
        "    df_cities.to_csv('cities.csv', index=False, encoding=\"utf-8-sig\")\n",
        "\n",
        "    print(\"Archivos CSV generados:\")\n",
        "    print(\" - countries.csv (modelo Country)\")\n",
        "    print(\" - country_info.csv (modelo CountryInfo)\")\n",
        "    print(\" - regions.csv\")\n",
        "    print(\" - cities.csv\")"
      ],
      "metadata": {
        "id": "scoKvR-TyP2q"
      },
      "execution_count": 11,
      "outputs": []
    },
    {
      "cell_type": "code",
      "source": [
        "main()"
      ],
      "metadata": {
        "colab": {
          "base_uri": "https://localhost:8080/"
        },
        "id": "r8aTstSZybHT",
        "outputId": "5f52fb1f-18cb-4663-893a-1df4cb8f8411"
      },
      "execution_count": 12,
      "outputs": [
        {
          "output_type": "stream",
          "name": "stdout",
          "text": [
            "Archivos CSV generados:\n",
            " - countries.csv (modelo Country)\n",
            " - country_info.csv (modelo CountryInfo)\n",
            " - regions.csv\n",
            " - cities.csv\n"
          ]
        }
      ]
    }
  ]
}